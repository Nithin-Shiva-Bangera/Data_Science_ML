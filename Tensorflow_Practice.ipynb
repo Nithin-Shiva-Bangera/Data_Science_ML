{
  "nbformat": 4,
  "nbformat_minor": 0,
  "metadata": {
    "colab": {
      "name": "Tensorflow_Practice",
      "provenance": [],
      "collapsed_sections": [
        "3PG2E9Jwlqvu",
        "SuWsLAEOnv-U"
      ],
      "include_colab_link": true
    },
    "kernelspec": {
      "name": "python3",
      "display_name": "Python 3"
    }
  },
  "cells": [
    {
      "cell_type": "markdown",
      "metadata": {
        "id": "view-in-github",
        "colab_type": "text"
      },
      "source": [
        "<a href=\"https://colab.research.google.com/github/Nithin-Shiva-Bangera/data_science_ML/blob/master/Tensorflow_Practice.ipynb\" target=\"_parent\"><img src=\"https://colab.research.google.com/assets/colab-badge.svg\" alt=\"Open In Colab\"/></a>"
      ]
    },
    {
      "cell_type": "code",
      "metadata": {
        "id": "jM5a1lMUYN-l",
        "colab_type": "code",
        "colab": {}
      },
      "source": [
        "#version check\n",
        "!pip show tensorflow\n",
        "\n",
        "#current version\n",
        "!pip install --upgrade tensorflow\n",
        "\n",
        "#specific version\n",
        "!pip install tensorflow==1.2\n",
        "\n",
        "#latest nightly build\n",
        "!pip install tf-nightly"
      ],
      "execution_count": 0,
      "outputs": []
    },
    {
      "cell_type": "code",
      "metadata": {
        "id": "5lls7ullZYpT",
        "colab_type": "code",
        "colab": {}
      },
      "source": [
        "import tensorflow as tf\n",
        "from tensorflow import keras"
      ],
      "execution_count": 0,
      "outputs": []
    },
    {
      "cell_type": "code",
      "metadata": {
        "id": "wRn3HXQSZmWP",
        "colab_type": "code",
        "colab": {}
      },
      "source": [
        "import numpy as np\n",
        "import pandas as pd\n",
        "import matplotlib.pyplot as plt\n",
        "import scipy\n",
        "import seaborn"
      ],
      "execution_count": 0,
      "outputs": []
    },
    {
      "cell_type": "markdown",
      "metadata": {
        "id": "3PG2E9Jwlqvu",
        "colab_type": "text"
      },
      "source": [
        "# Constant Tensor initialization"
      ]
    },
    {
      "cell_type": "code",
      "metadata": {
        "id": "B2fzDvOpZ6Id",
        "colab_type": "code",
        "outputId": "7679deaf-02ce-4342-f706-b25c2e76b99a",
        "colab": {
          "base_uri": "https://localhost:8080/",
          "height": 34
        }
      },
      "source": [
        "#variable initialization for constant values\n",
        "node1 = tf.constant(3.0,tf.float32)\n",
        "node2 = tf.constant(4.0)\n",
        "\n",
        "#expression\n",
        "node3 = node1 + node2\n",
        "\n",
        "#method_1\n",
        "'''\n",
        "#initializing the session\n",
        "sess = tf.Session()\n",
        "print(sess.run(node3))\n",
        "'''\n",
        "#method_2\n",
        "#initializing the session\n",
        "with tf.Session() as sess:\n",
        "  output = sess.run(node1 + node2)\n",
        "  print(output)\n",
        "\n",
        "#closing the session\n",
        "sess.close()\n"
      ],
      "execution_count": 0,
      "outputs": [
        {
          "output_type": "stream",
          "text": [
            "7.0\n"
          ],
          "name": "stdout"
        }
      ]
    },
    {
      "cell_type": "markdown",
      "metadata": {
        "id": "SuWsLAEOnv-U",
        "colab_type": "text"
      },
      "source": [
        "# Placeholder Tensor initialization"
      ]
    },
    {
      "cell_type": "code",
      "metadata": {
        "id": "pDCY7qnmnz1u",
        "colab_type": "code",
        "outputId": "6283c639-f622-45da-99d5-9423e43603fc",
        "colab": {
          "base_uri": "https://localhost:8080/",
          "height": 34
        }
      },
      "source": [
        "#Variable initializing for the placeholders values\n",
        "node1 = tf.placeholder(tf.float32)\n",
        "node2 = tf.placeholder(tf.float32)\n",
        "\n",
        "#Expression\n",
        "node3 = node1 + node2\n",
        "\n",
        "#initializing the session\n",
        "sess = tf.Session()\n",
        "print(sess.run(node3,{node1:[1,2],node2:[3,4]}))\n",
        "\n",
        "sess.close()"
      ],
      "execution_count": 0,
      "outputs": [
        {
          "output_type": "stream",
          "text": [
            "[4. 6.]\n"
          ],
          "name": "stdout"
        }
      ]
    },
    {
      "cell_type": "markdown",
      "metadata": {
        "id": "Ff3fxhVFpiRu",
        "colab_type": "text"
      },
      "source": [
        "# Variable Tensor initialization"
      ]
    },
    {
      "cell_type": "code",
      "metadata": {
        "id": "4S63NcF0pGWU",
        "colab_type": "code",
        "outputId": "99994afc-20e6-4971-fe9a-1b40f3ca2d3a",
        "colab": {
          "base_uri": "https://localhost:8080/",
          "height": 34
        }
      },
      "source": [
        "#variable initialization\n",
        "m = tf.Variable([0.3],tf.float32)\n",
        "c = tf.Variable([-0.3],tf.float32)\n",
        "x = tf.placeholder(tf.float32)\n",
        "\n",
        "#model expression\n",
        "linear_model = m * x + c\n",
        "\n",
        "#initializing variable data types using global variables initializer method\n",
        "init = tf.global_variables_initializer()\n",
        "\n",
        "#initializing the session\n",
        "sess = tf.Session()\n",
        "sess.run(init)\n",
        "print(sess.run(linear_model,{x:[1,2,3,4]}))\n",
        "\n",
        "#closing the session\n",
        "sess.close()"
      ],
      "execution_count": 0,
      "outputs": [
        {
          "output_type": "stream",
          "text": [
            "[0.         0.3        0.6        0.90000004]\n"
          ],
          "name": "stdout"
        }
      ]
    },
    {
      "cell_type": "markdown",
      "metadata": {
        "id": "GOhPToJsw36e",
        "colab_type": "text"
      },
      "source": [
        "# Tensorboard Initialization"
      ]
    },
    {
      "cell_type": "code",
      "metadata": {
        "id": "76WD8keyufZo",
        "colab_type": "code",
        "colab": {}
      },
      "source": [
        "#install TF\n",
        "!pip install tensorflow==2.0.0-alpha0"
      ],
      "execution_count": 0,
      "outputs": []
    },
    {
      "cell_type": "code",
      "metadata": {
        "id": "_17JLhVwwlxY",
        "colab_type": "code",
        "colab": {}
      },
      "source": [
        "#load and initialize tensorboard extensions\n",
        "#%load_ext tensorboard\n",
        "%reload_ext tensorboard"
      ],
      "execution_count": 0,
      "outputs": []
    },
    {
      "cell_type": "code",
      "metadata": {
        "id": "yYnkS53GxAfI",
        "colab_type": "code",
        "colab": {}
      },
      "source": [
        "#add to keras callback\n",
        "tensorboard_callback = tf.keras.callbacks.TensorBoard(logdir,histogram_freq=1)"
      ],
      "execution_count": 0,
      "outputs": []
    },
    {
      "cell_type": "code",
      "metadata": {
        "id": "LcF6MTiCqsLV",
        "colab_type": "code",
        "colab": {}
      },
      "source": [
        "%tensorboard -- logdir logs"
      ],
      "execution_count": 0,
      "outputs": []
    }
  ]
}